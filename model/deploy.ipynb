{
 "cells": [
  {
   "cell_type": "code",
   "execution_count": null,
   "metadata": {},
   "outputs": [],
   "source": [
    "import sagemaker\n",
    "from sagemaker.pytorch import PyTorchModel\n",
    "from sagemaker import get_execution_role\n",
    "import boto3\n",
    "import os\n",
    "import tarfile\n",
    "import numpy as np\n",
    "from PIL import Image\n",
    "import json\n",
    "from torchvision import transforms\n"
   ]
  },
  {
   "cell_type": "code",
   "execution_count": null,
   "metadata": {},
   "outputs": [],
   "source": [
    "sagemaker_session = sagemaker.Session()\n",
    "role = get_execution_role()"
   ]
  },
  {
   "cell_type": "code",
   "execution_count": null,
   "metadata": {},
   "outputs": [],
   "source": [
    "# Create tar.gz file w/ the model and inference script\n",
    "def create_model_tarball():\n",
    "    with tarfile.open('model.tar.gz', 'w:gz') as tar:\n",
    "        tar.add('best_model.pth')\n",
    "        tar.add('code/inference.py')\n",
    "\n",
    "create_model_tarball()"
   ]
  },
  {
   "cell_type": "code",
   "execution_count": null,
   "metadata": {},
   "outputs": [],
   "source": [
    "# Upload the model.tar.gz to S3\n",
    "model_data = sagemaker_session.upload_data(\n",
    "    'model.tar.gz',\n",
    "    key_prefix='pathmnist-model'\n",
    ")"
   ]
  },
  {
   "cell_type": "code",
   "execution_count": null,
   "metadata": {},
   "outputs": [],
   "source": [
    "# Create PyTorch model\n",
    "pytorch_model = PyTorchModel(\n",
    "    model_data=model_data,\n",
    "    role=role,\n",
    "    entry_point='code/inference.py',\n",
    "    framework_version='2.3.0',\n",
    "    py_version='py311',\n",
    "    predictor_cls=sagemaker.pytorch.model.PyTorchPredictor\n",
    ")"
   ]
  },
  {
   "cell_type": "code",
   "execution_count": null,
   "metadata": {},
   "outputs": [],
   "source": [
    "# Deploy model\n",
    "predictor = pytorch_model.deploy(\n",
    "    initial_instance_count=1,\n",
    "    instance_type='ml.t2.medium',\n",
    "    endpoint_name='pathmnist-endpoint',\n",
    "    client_config={'request_timeout': 120}\n",
    ")"
   ]
  },
  {
   "cell_type": "code",
   "execution_count": null,
   "metadata": {},
   "outputs": [],
   "source": [
    "sagemaker_client = boto3.client('sagemaker')\n",
    "\n",
    "response = sagemaker_client.describe_endpoint(EndpointName='pathmnist-endpoint')\n",
    "print(\"Endpoint Status:\", response['EndpointStatus'])"
   ]
  },
  {
   "cell_type": "code",
   "execution_count": null,
   "metadata": {},
   "outputs": [],
   "source": [
    "def preprocess_image(image_path):\n",
    "    transform = transforms.Compose([\n",
    "        transforms.Resize((28, 28)),\n",
    "        transforms.ToTensor(),\n",
    "    ])\n",
    "    \n",
    "    image = Image.open(image_path)\n",
    "    image_tensor = transform(image)\n",
    "    \n",
    "    # Convert to numpy array, shape (3, 28, 28)\n",
    "    return image_tensor.numpy()\n",
    "\n",
    "def predict_single_image(image_path, endpoint_name):\n",
    "    transform = transforms.Compose([\n",
    "        transforms.ToTensor(),\n",
    "        transforms.Normalize(\n",
    "            mean=[0.485, 0.456, 0.406],\n",
    "            std=[0.229, 0.224, 0.225]\n",
    "        )\n",
    "    ])\n",
    "    \n",
    "    # Load and preprocess image\n",
    "    image = Image.open(image_path).convert('RGB')\n",
    "    \n",
    "    image_tensor = transform(image)\n",
    "    image_array = image_tensor.numpy()\n",
    "    \n",
    "    print(f\"Image shape: {image_array.shape}\") # expect (3, 28, 28)\n",
    "    print(f\"Value range: [{image_array.min():.3f}, {image_array.max():.3f}]\")\n",
    "    \n",
    "    runtime = boto3.client('sagemaker-runtime')\n",
    "    response = runtime.invoke_endpoint(\n",
    "        EndpointName=endpoint_name,\n",
    "        ContentType='application/json',\n",
    "        Body=json.dumps(image_array.tolist())\n",
    "    )\n",
    "    \n",
    "    prediction = json.loads(response['Body'].read().decode())\n",
    "    return prediction\n",
    "\n"
   ]
  },
  {
   "cell_type": "code",
   "execution_count": null,
   "metadata": {},
   "outputs": [],
   "source": [
    "# Test it out\n",
    "prediction = predict_single_image('sample_0_label_[8].png', 'pathmnist-endpoint')\n",
    "prediction"
   ]
  },
  {
   "cell_type": "code",
   "execution_count": null,
   "metadata": {},
   "outputs": [],
   "source": [
    "# delete the endpoint when done\n",
    "predictor.delete_endpoint()"
   ]
  }
 ],
 "metadata": {
  "kernelspec": {
   "display_name": "conda_pytorch_p310",
   "language": "python",
   "name": "conda_pytorch_p310"
  },
  "language_info": {
   "codemirror_mode": {
    "name": "ipython",
    "version": 3
   },
   "file_extension": ".py",
   "mimetype": "text/x-python",
   "name": "python",
   "nbconvert_exporter": "python",
   "pygments_lexer": "ipython3",
   "version": "3.10.14"
  }
 },
 "nbformat": 4,
 "nbformat_minor": 2
}
